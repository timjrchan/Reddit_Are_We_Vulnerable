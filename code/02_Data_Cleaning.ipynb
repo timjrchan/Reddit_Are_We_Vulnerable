{
 "cells": [
  {
   "cell_type": "markdown",
   "metadata": {},
   "source": [
    "<img src=\"http://imgur.com/1ZcRyrc.png\" style=\"float: left; margin: 20px; height: 55px\">\n",
    "\n",
    "\n",
    "# DSI-SG-42 Project 3: Web APIs & NLP\n",
    "### Reddit Scams: Are We Vulnerable?\n",
    "---"
   ]
  },
  {
   "cell_type": "markdown",
   "metadata": {},
   "source": [
    "## 2. Data Cleaning"
   ]
  },
  {
   "cell_type": "markdown",
   "metadata": {},
   "source": [
    "### 2.1 Importing Libraries"
   ]
  },
  {
   "cell_type": "code",
   "execution_count": 1,
   "metadata": {},
   "outputs": [],
   "source": [
    "import pandas as pd\n",
    "import numpy as np\n",
    "import re"
   ]
  },
  {
   "cell_type": "markdown",
   "metadata": {},
   "source": [
    "### 2.2 Import scraped dataset"
   ]
  },
  {
   "cell_type": "code",
   "execution_count": 2,
   "metadata": {},
   "outputs": [
    {
     "data": {
      "text/html": [
       "<div>\n",
       "<style scoped>\n",
       "    .dataframe tbody tr th:only-of-type {\n",
       "        vertical-align: middle;\n",
       "    }\n",
       "\n",
       "    .dataframe tbody tr th {\n",
       "        vertical-align: top;\n",
       "    }\n",
       "\n",
       "    .dataframe thead th {\n",
       "        text-align: right;\n",
       "    }\n",
       "</style>\n",
       "<table border=\"1\" class=\"dataframe\">\n",
       "  <thead>\n",
       "    <tr style=\"text-align: right;\">\n",
       "      <th></th>\n",
       "      <th>subreddit</th>\n",
       "      <th>type</th>\n",
       "      <th>text</th>\n",
       "      <th>id</th>\n",
       "      <th>url</th>\n",
       "    </tr>\n",
       "  </thead>\n",
       "  <tbody>\n",
       "    <tr>\n",
       "      <th>0</th>\n",
       "      <td>RandomKindness</td>\n",
       "      <td>title</td>\n",
       "      <td>[Request] Today is My Birthday. I just want so...</td>\n",
       "      <td>1bkqx22</td>\n",
       "      <td>https://www.reddit.com/r/RandomKindness/commen...</td>\n",
       "    </tr>\n",
       "    <tr>\n",
       "      <th>1</th>\n",
       "      <td>RandomKindness</td>\n",
       "      <td>body</td>\n",
       "      <td>I don’t normally do things like this. Today I ...</td>\n",
       "      <td>1bkqx22</td>\n",
       "      <td>https://www.reddit.com/r/RandomKindness/commen...</td>\n",
       "    </tr>\n",
       "    <tr>\n",
       "      <th>2</th>\n",
       "      <td>RandomKindness</td>\n",
       "      <td>comment</td>\n",
       "      <td>You're doing amazing, and I'm proud of you! So...</td>\n",
       "      <td>1bkqx22</td>\n",
       "      <td>https://www.reddit.com/r/RandomKindness/commen...</td>\n",
       "    </tr>\n",
       "    <tr>\n",
       "      <th>3</th>\n",
       "      <td>RandomKindness</td>\n",
       "      <td>reply</td>\n",
       "      <td>This made me smile, thank you 💕</td>\n",
       "      <td>1bkqx22</td>\n",
       "      <td>https://www.reddit.com/r/RandomKindness/commen...</td>\n",
       "    </tr>\n",
       "    <tr>\n",
       "      <th>4</th>\n",
       "      <td>RandomKindness</td>\n",
       "      <td>reply</td>\n",
       "      <td>I love this ♥️😆</td>\n",
       "      <td>1bkqx22</td>\n",
       "      <td>https://www.reddit.com/r/RandomKindness/commen...</td>\n",
       "    </tr>\n",
       "  </tbody>\n",
       "</table>\n",
       "</div>"
      ],
      "text/plain": [
       "        subreddit     type                                               text  \\\n",
       "0  RandomKindness    title  [Request] Today is My Birthday. I just want so...   \n",
       "1  RandomKindness     body  I don’t normally do things like this. Today I ...   \n",
       "2  RandomKindness  comment  You're doing amazing, and I'm proud of you! So...   \n",
       "3  RandomKindness    reply                    This made me smile, thank you 💕   \n",
       "4  RandomKindness    reply                                    I love this ♥️😆   \n",
       "\n",
       "        id                                                url  \n",
       "0  1bkqx22  https://www.reddit.com/r/RandomKindness/commen...  \n",
       "1  1bkqx22  https://www.reddit.com/r/RandomKindness/commen...  \n",
       "2  1bkqx22  https://www.reddit.com/r/RandomKindness/commen...  \n",
       "3  1bkqx22  https://www.reddit.com/r/RandomKindness/commen...  \n",
       "4  1bkqx22  https://www.reddit.com/r/RandomKindness/commen...  "
      ]
     },
     "execution_count": 2,
     "metadata": {},
     "output_type": "execute_result"
    }
   ],
   "source": [
    "df = pd.read_csv('../data/reddit_scraped_data.csv')\n",
    "df.head()"
   ]
  },
  {
   "cell_type": "markdown",
   "metadata": {},
   "source": [
    "### 2.3 First look at data"
   ]
  },
  {
   "cell_type": "code",
   "execution_count": 3,
   "metadata": {},
   "outputs": [
    {
     "data": {
      "text/html": [
       "<div>\n",
       "<style scoped>\n",
       "    .dataframe tbody tr th:only-of-type {\n",
       "        vertical-align: middle;\n",
       "    }\n",
       "\n",
       "    .dataframe tbody tr th {\n",
       "        vertical-align: top;\n",
       "    }\n",
       "\n",
       "    .dataframe thead th {\n",
       "        text-align: right;\n",
       "    }\n",
       "</style>\n",
       "<table border=\"1\" class=\"dataframe\">\n",
       "  <thead>\n",
       "    <tr style=\"text-align: right;\">\n",
       "      <th></th>\n",
       "      <th>subreddit</th>\n",
       "      <th>type</th>\n",
       "      <th>text</th>\n",
       "      <th>id</th>\n",
       "      <th>url</th>\n",
       "    </tr>\n",
       "  </thead>\n",
       "  <tbody>\n",
       "    <tr>\n",
       "      <th>count</th>\n",
       "      <td>66481</td>\n",
       "      <td>66481</td>\n",
       "      <td>66456</td>\n",
       "      <td>66481</td>\n",
       "      <td>66481</td>\n",
       "    </tr>\n",
       "    <tr>\n",
       "      <th>unique</th>\n",
       "      <td>2</td>\n",
       "      <td>4</td>\n",
       "      <td>31841</td>\n",
       "      <td>1931</td>\n",
       "      <td>1931</td>\n",
       "    </tr>\n",
       "    <tr>\n",
       "      <th>top</th>\n",
       "      <td>RandomKindness</td>\n",
       "      <td>comment</td>\n",
       "      <td>[removed]</td>\n",
       "      <td>1bgi54f</td>\n",
       "      <td>https://www.reddit.com/r/Scams/comments/1bgi54...</td>\n",
       "    </tr>\n",
       "    <tr>\n",
       "      <th>freq</th>\n",
       "      <td>37183</td>\n",
       "      <td>34201</td>\n",
       "      <td>4856</td>\n",
       "      <td>1351</td>\n",
       "      <td>1351</td>\n",
       "    </tr>\n",
       "  </tbody>\n",
       "</table>\n",
       "</div>"
      ],
      "text/plain": [
       "             subreddit     type       text       id  \\\n",
       "count            66481    66481      66456    66481   \n",
       "unique               2        4      31841     1931   \n",
       "top     RandomKindness  comment  [removed]  1bgi54f   \n",
       "freq             37183    34201       4856     1351   \n",
       "\n",
       "                                                      url  \n",
       "count                                               66481  \n",
       "unique                                               1931  \n",
       "top     https://www.reddit.com/r/Scams/comments/1bgi54...  \n",
       "freq                                                 1351  "
      ]
     },
     "execution_count": 3,
     "metadata": {},
     "output_type": "execute_result"
    }
   ],
   "source": [
    "df.describe()"
   ]
  },
  {
   "cell_type": "markdown",
   "metadata": {},
   "source": [
    "A quick look indicates that there were duplicate rows that resulted from the scrape. We will remove the duplicates."
   ]
  },
  {
   "cell_type": "markdown",
   "metadata": {},
   "source": [
    "### 2.4 Remove duplicate rows"
   ]
  },
  {
   "cell_type": "code",
   "execution_count": 4,
   "metadata": {},
   "outputs": [
    {
     "data": {
      "text/html": [
       "<div>\n",
       "<style scoped>\n",
       "    .dataframe tbody tr th:only-of-type {\n",
       "        vertical-align: middle;\n",
       "    }\n",
       "\n",
       "    .dataframe tbody tr th {\n",
       "        vertical-align: top;\n",
       "    }\n",
       "\n",
       "    .dataframe thead th {\n",
       "        text-align: right;\n",
       "    }\n",
       "</style>\n",
       "<table border=\"1\" class=\"dataframe\">\n",
       "  <thead>\n",
       "    <tr style=\"text-align: right;\">\n",
       "      <th></th>\n",
       "      <th>subreddit</th>\n",
       "      <th>type</th>\n",
       "      <th>text</th>\n",
       "      <th>id</th>\n",
       "      <th>url</th>\n",
       "    </tr>\n",
       "  </thead>\n",
       "  <tbody>\n",
       "    <tr>\n",
       "      <th>count</th>\n",
       "      <td>31842</td>\n",
       "      <td>31842</td>\n",
       "      <td>31841</td>\n",
       "      <td>31842</td>\n",
       "      <td>31842</td>\n",
       "    </tr>\n",
       "    <tr>\n",
       "      <th>unique</th>\n",
       "      <td>2</td>\n",
       "      <td>4</td>\n",
       "      <td>31841</td>\n",
       "      <td>1889</td>\n",
       "      <td>1889</td>\n",
       "    </tr>\n",
       "    <tr>\n",
       "      <th>top</th>\n",
       "      <td>RandomKindness</td>\n",
       "      <td>reply</td>\n",
       "      <td>[Request] Today is My Birthday. I just want so...</td>\n",
       "      <td>1bgnrzz</td>\n",
       "      <td>https://www.reddit.com/r/Scams/comments/1bgnrz...</td>\n",
       "    </tr>\n",
       "    <tr>\n",
       "      <th>freq</th>\n",
       "      <td>16974</td>\n",
       "      <td>14174</td>\n",
       "      <td>1</td>\n",
       "      <td>469</td>\n",
       "      <td>469</td>\n",
       "    </tr>\n",
       "  </tbody>\n",
       "</table>\n",
       "</div>"
      ],
      "text/plain": [
       "             subreddit   type  \\\n",
       "count            31842  31842   \n",
       "unique               2      4   \n",
       "top     RandomKindness  reply   \n",
       "freq             16974  14174   \n",
       "\n",
       "                                                     text       id  \\\n",
       "count                                               31841    31842   \n",
       "unique                                              31841     1889   \n",
       "top     [Request] Today is My Birthday. I just want so...  1bgnrzz   \n",
       "freq                                                    1      469   \n",
       "\n",
       "                                                      url  \n",
       "count                                               31842  \n",
       "unique                                               1889  \n",
       "top     https://www.reddit.com/r/Scams/comments/1bgnrz...  \n",
       "freq                                                  469  "
      ]
     },
     "execution_count": 4,
     "metadata": {},
     "output_type": "execute_result"
    }
   ],
   "source": [
    "# Drop duplicate rows\n",
    "df1 = df.drop_duplicates(subset=['text'])\n",
    "# To verify that there are no duplicate rows\n",
    "df1.describe()"
   ]
  },
  {
   "cell_type": "markdown",
   "metadata": {},
   "source": [
    "### 2.5 Check for null values"
   ]
  },
  {
   "cell_type": "code",
   "execution_count": 5,
   "metadata": {},
   "outputs": [
    {
     "data": {
      "text/plain": [
       "subreddit    0\n",
       "type         0\n",
       "text         1\n",
       "id           0\n",
       "url          0\n",
       "dtype: int64"
      ]
     },
     "execution_count": 5,
     "metadata": {},
     "output_type": "execute_result"
    }
   ],
   "source": [
    "df1.isnull().sum()"
   ]
  },
  {
   "cell_type": "code",
   "execution_count": 6,
   "metadata": {},
   "outputs": [
    {
     "name": "stdout",
     "output_type": "stream",
     "text": [
      "(31842, 5)\n"
     ]
    }
   ],
   "source": [
    "print(df1.shape)"
   ]
  },
  {
   "cell_type": "code",
   "execution_count": 7,
   "metadata": {},
   "outputs": [
    {
     "name": "stdout",
     "output_type": "stream",
     "text": [
      "(31841, 5)\n"
     ]
    }
   ],
   "source": [
    "# Remove null value\n",
    "df2 = df1.dropna(subset='text', axis=0)\n",
    "# Verify that null value has been dropped\n",
    "print(df2.shape)"
   ]
  },
  {
   "cell_type": "code",
   "execution_count": 8,
   "metadata": {},
   "outputs": [
    {
     "data": {
      "text/html": [
       "<div>\n",
       "<style scoped>\n",
       "    .dataframe tbody tr th:only-of-type {\n",
       "        vertical-align: middle;\n",
       "    }\n",
       "\n",
       "    .dataframe tbody tr th {\n",
       "        vertical-align: top;\n",
       "    }\n",
       "\n",
       "    .dataframe thead th {\n",
       "        text-align: right;\n",
       "    }\n",
       "</style>\n",
       "<table border=\"1\" class=\"dataframe\">\n",
       "  <thead>\n",
       "    <tr style=\"text-align: right;\">\n",
       "      <th></th>\n",
       "      <th>subreddit</th>\n",
       "      <th>type</th>\n",
       "      <th>text</th>\n",
       "      <th>id</th>\n",
       "      <th>url</th>\n",
       "    </tr>\n",
       "  </thead>\n",
       "  <tbody>\n",
       "    <tr>\n",
       "      <th>0</th>\n",
       "      <td>RandomKindness</td>\n",
       "      <td>title</td>\n",
       "      <td>[Request] Today is My Birthday. I just want so...</td>\n",
       "      <td>1bkqx22</td>\n",
       "      <td>https://www.reddit.com/r/RandomKindness/commen...</td>\n",
       "    </tr>\n",
       "    <tr>\n",
       "      <th>1</th>\n",
       "      <td>RandomKindness</td>\n",
       "      <td>body</td>\n",
       "      <td>I don’t normally do things like this. Today I ...</td>\n",
       "      <td>1bkqx22</td>\n",
       "      <td>https://www.reddit.com/r/RandomKindness/commen...</td>\n",
       "    </tr>\n",
       "    <tr>\n",
       "      <th>2</th>\n",
       "      <td>RandomKindness</td>\n",
       "      <td>comment</td>\n",
       "      <td>You're doing amazing, and I'm proud of you! So...</td>\n",
       "      <td>1bkqx22</td>\n",
       "      <td>https://www.reddit.com/r/RandomKindness/commen...</td>\n",
       "    </tr>\n",
       "    <tr>\n",
       "      <th>3</th>\n",
       "      <td>RandomKindness</td>\n",
       "      <td>reply</td>\n",
       "      <td>This made me smile, thank you 💕</td>\n",
       "      <td>1bkqx22</td>\n",
       "      <td>https://www.reddit.com/r/RandomKindness/commen...</td>\n",
       "    </tr>\n",
       "    <tr>\n",
       "      <th>4</th>\n",
       "      <td>RandomKindness</td>\n",
       "      <td>reply</td>\n",
       "      <td>I love this ♥️😆</td>\n",
       "      <td>1bkqx22</td>\n",
       "      <td>https://www.reddit.com/r/RandomKindness/commen...</td>\n",
       "    </tr>\n",
       "    <tr>\n",
       "      <th>5</th>\n",
       "      <td>RandomKindness</td>\n",
       "      <td>reply</td>\n",
       "      <td>Where did you find the virtual bubble wrap? Th...</td>\n",
       "      <td>1bkqx22</td>\n",
       "      <td>https://www.reddit.com/r/RandomKindness/commen...</td>\n",
       "    </tr>\n",
       "    <tr>\n",
       "      <th>6</th>\n",
       "      <td>RandomKindness</td>\n",
       "      <td>reply</td>\n",
       "      <td>&gt;!pop!!&lt;&gt;!pop!!&lt;</td>\n",
       "      <td>1bkqx22</td>\n",
       "      <td>https://www.reddit.com/r/RandomKindness/commen...</td>\n",
       "    </tr>\n",
       "    <tr>\n",
       "      <th>7</th>\n",
       "      <td>RandomKindness</td>\n",
       "      <td>reply</td>\n",
       "      <td>Yay I’m happy it’s your birthday cause now we ...</td>\n",
       "      <td>1bkqx22</td>\n",
       "      <td>https://www.reddit.com/r/RandomKindness/commen...</td>\n",
       "    </tr>\n",
       "    <tr>\n",
       "      <th>8</th>\n",
       "      <td>RandomKindness</td>\n",
       "      <td>comment</td>\n",
       "      <td>Happy Birthday!! I'm glad you're still with us...</td>\n",
       "      <td>1bkqx22</td>\n",
       "      <td>https://www.reddit.com/r/RandomKindness/commen...</td>\n",
       "    </tr>\n",
       "    <tr>\n",
       "      <th>9</th>\n",
       "      <td>RandomKindness</td>\n",
       "      <td>comment</td>\n",
       "      <td>You do not sound like a loser at all. You soun...</td>\n",
       "      <td>1bkqx22</td>\n",
       "      <td>https://www.reddit.com/r/RandomKindness/commen...</td>\n",
       "    </tr>\n",
       "  </tbody>\n",
       "</table>\n",
       "</div>"
      ],
      "text/plain": [
       "        subreddit     type                                               text  \\\n",
       "0  RandomKindness    title  [Request] Today is My Birthday. I just want so...   \n",
       "1  RandomKindness     body  I don’t normally do things like this. Today I ...   \n",
       "2  RandomKindness  comment  You're doing amazing, and I'm proud of you! So...   \n",
       "3  RandomKindness    reply                    This made me smile, thank you 💕   \n",
       "4  RandomKindness    reply                                    I love this ♥️😆   \n",
       "5  RandomKindness    reply  Where did you find the virtual bubble wrap? Th...   \n",
       "6  RandomKindness    reply                                   >!pop!!<>!pop!!<   \n",
       "7  RandomKindness    reply  Yay I’m happy it’s your birthday cause now we ...   \n",
       "8  RandomKindness  comment  Happy Birthday!! I'm glad you're still with us...   \n",
       "9  RandomKindness  comment  You do not sound like a loser at all. You soun...   \n",
       "\n",
       "        id                                                url  \n",
       "0  1bkqx22  https://www.reddit.com/r/RandomKindness/commen...  \n",
       "1  1bkqx22  https://www.reddit.com/r/RandomKindness/commen...  \n",
       "2  1bkqx22  https://www.reddit.com/r/RandomKindness/commen...  \n",
       "3  1bkqx22  https://www.reddit.com/r/RandomKindness/commen...  \n",
       "4  1bkqx22  https://www.reddit.com/r/RandomKindness/commen...  \n",
       "5  1bkqx22  https://www.reddit.com/r/RandomKindness/commen...  \n",
       "6  1bkqx22  https://www.reddit.com/r/RandomKindness/commen...  \n",
       "7  1bkqx22  https://www.reddit.com/r/RandomKindness/commen...  \n",
       "8  1bkqx22  https://www.reddit.com/r/RandomKindness/commen...  \n",
       "9  1bkqx22  https://www.reddit.com/r/RandomKindness/commen...  "
      ]
     },
     "execution_count": 8,
     "metadata": {},
     "output_type": "execute_result"
    }
   ],
   "source": [
    "df2.head(10)"
   ]
  },
  {
   "cell_type": "markdown",
   "metadata": {},
   "source": [
    "#### 2.6 Remove auto-generated texts"
   ]
  },
  {
   "cell_type": "markdown",
   "metadata": {},
   "source": [
    "We noticed that there were many comments/ replies that were auto-generated by bot. These do not serve much meaning to our analysis, hence we will remove these rows."
   ]
  },
  {
   "cell_type": "code",
   "execution_count": 9,
   "metadata": {},
   "outputs": [
    {
     "data": {
      "text/plain": [
       "(27395, 5)"
      ]
     },
     "execution_count": 9,
     "metadata": {},
     "output_type": "execute_result"
    }
   ],
   "source": [
    "# Remove bot messages\n",
    "df2 = df2[df2['text'].str.contains('I am a bot')==False]\n",
    "df2.shape"
   ]
  },
  {
   "cell_type": "markdown",
   "metadata": {},
   "source": [
    "#### 2.7 Remove special characters"
   ]
  },
  {
   "cell_type": "markdown",
   "metadata": {},
   "source": [
    "There were a few other text which will not add value to our analysis. They are:\n",
    "\n",
    "1. Texts which describe nature of text, usually found in title, for example [Request] or [Offer]\n",
    "2. URLs within comments/ replies\n",
    "3. /r which makes reference to a subreddit\n",
    "4. Emojis and punctuations\n",
    "\n",
    "We will use regex to replace the above characters with ' ', and then remove these rows."
   ]
  },
  {
   "cell_type": "code",
   "execution_count": 10,
   "metadata": {},
   "outputs": [],
   "source": [
    "# Function to remove square brackets, URLs, r/, emojis, punctuations using regex\n",
    "def clean_text(text):\n",
    "    # Check if the value is a string\n",
    "    if isinstance(text, str):\n",
    "        # Remove square brackets []\n",
    "        text = re.sub(r'\\[.*?\\]', '', text)\n",
    "        # Remove URLs\n",
    "        text = re.sub(r'http\\S', '', text)\n",
    "        # Remove subreddits 'r/'\n",
    "        text = re.sub(r'r\\/w+', '', text)\n",
    "        # Remove emojis and punctuations\n",
    "        text = re.sub(r'[^\\w\\s]','', text)\n",
    "\n",
    "    try:\n",
    "        text = text.lower()\n",
    "        text = text.strip()\n",
    "    except AttributeError:\n",
    "        pass\n",
    "        \n",
    "    return text\n",
    "\n",
    "# Apply the function to the 'text' column\n",
    "df2['cleaned_text'] = df2['text'].apply(clean_text)"
   ]
  },
  {
   "cell_type": "code",
   "execution_count": 11,
   "metadata": {},
   "outputs": [],
   "source": [
    "# Drop rows with ' ' in 'cleaned_text'\n",
    "df2 = df2[df2['cleaned_text']!= '']"
   ]
  },
  {
   "cell_type": "markdown",
   "metadata": {},
   "source": [
    "#### 2.8 Assign Binary Labels for r/RandomKindness and r/Scams"
   ]
  },
  {
   "cell_type": "code",
   "execution_count": 12,
   "metadata": {},
   "outputs": [
    {
     "data": {
      "text/plain": [
       "0        0\n",
       "1        0\n",
       "2        0\n",
       "3        0\n",
       "4        0\n",
       "        ..\n",
       "66468    1\n",
       "66471    1\n",
       "66472    1\n",
       "66474    1\n",
       "66475    1\n",
       "Name: label, Length: 27335, dtype: int32"
      ]
     },
     "execution_count": 12,
     "metadata": {},
     "output_type": "execute_result"
    }
   ],
   "source": [
    "# Label 0 for RandomKindness, 1 for Scams\n",
    "df2['label'] = [1 if i=='Scams' else 0 for i in df2['subreddit']]\n",
    "# Setting label column as integer\n",
    "df2['label'].astype(int)"
   ]
  },
  {
   "cell_type": "code",
   "execution_count": 13,
   "metadata": {},
   "outputs": [
    {
     "data": {
      "text/plain": [
       "(27335, 7)"
      ]
     },
     "execution_count": 13,
     "metadata": {},
     "output_type": "execute_result"
    }
   ],
   "source": [
    "df2.shape"
   ]
  },
  {
   "cell_type": "markdown",
   "metadata": {},
   "source": [
    "#### 2.9 Export data to CSV to proceed with EDA"
   ]
  },
  {
   "cell_type": "code",
   "execution_count": 14,
   "metadata": {},
   "outputs": [],
   "source": [
    "df2.to_csv('../data/cleaned_data.csv', index=False)"
   ]
  }
 ],
 "metadata": {
  "kernelspec": {
   "display_name": "base",
   "language": "python",
   "name": "python3"
  },
  "language_info": {
   "codemirror_mode": {
    "name": "ipython",
    "version": 3
   },
   "file_extension": ".py",
   "mimetype": "text/x-python",
   "name": "python",
   "nbconvert_exporter": "python",
   "pygments_lexer": "ipython3",
   "version": "3.11.5"
  }
 },
 "nbformat": 4,
 "nbformat_minor": 2
}
