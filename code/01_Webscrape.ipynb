{
 "cells": [
  {
   "cell_type": "markdown",
   "metadata": {},
   "source": [
    "<img src=\"http://imgur.com/1ZcRyrc.png\" style=\"float: left; margin: 20px; height: 55px\">\n",
    "\n",
    "\n",
    "# DSI-SG-42 Project 3: Web APIs & NLP\n",
    "### Reddit Scams: Are We Vulnerable?\n",
    "---"
   ]
  },
  {
   "cell_type": "markdown",
   "metadata": {},
   "source": [
    "In this project, our primary aim is to construct a robust classification model that can accurately discern the origin of posts from two distinct subreddits: r/RandomKindness and r/Scams. The overarching objective is to empower subreddit moderators with a proactive tool to enhance their efficacy in identifying and mitigating potential scam posts within their respective communities. By analyzing sentiment and identifying frequently used words in each subreddit, we can develop a basic understanding of the linguistic red flags that might signal a potential scam. Through machine learning techniques, we seek to provide moderators with a means to swiftly distinguish between genuine acts of kindness and fraudulent activities, thereby fostering safer and more trustworthy online environments. Our study aims to answer the following problem statement\n",
    "\n",
    "### **Problem Statement:**\n",
    "\n",
    "How Might We Assist Reddit Moderators to Differentiate Online Scams from Legitimate Acts of Kindness within Reddit Posts using a Sensitive & Accurate Natural Language Processing Model\n"
   ]
  },
  {
   "cell_type": "markdown",
   "metadata": {},
   "source": [
    "# 1. Webscraping from Reddit"
   ]
  },
  {
   "cell_type": "markdown",
   "metadata": {},
   "source": [
    "<h2>1.1 Importing Libraries</h2>"
   ]
  },
  {
   "cell_type": "code",
   "execution_count": 4,
   "metadata": {},
   "outputs": [],
   "source": [
    "# Imports for Web Scraping\n",
    "import pandas as pd\n",
    "import re\n",
    "import datetime\n",
    "import requests\n",
    "\n",
    "import praw\n",
    "from praw.models import MoreComments\n",
    "from praw.exceptions import APIException\n",
    "\n",
    "import time\n",
    "import itertools\n",
    "\n",
    "import string\n",
    "import csv"
   ]
  },
  {
   "cell_type": "code",
   "execution_count": 5,
   "metadata": {},
   "outputs": [],
   "source": [
    "# Initialize the Reddit API client\n",
    "# Change to own user ID\n",
    "reddit= praw.Reddit(\n",
    "    client_id = 'YOUR_CLIENT_ID',\n",
    "    client_secret = 'YOUR_CLIENT_SECRET',\n",
    "    user_agent = 'YOUR_USER_AGENT'\n",
    ")"
   ]
  },
  {
   "cell_type": "markdown",
   "metadata": {},
   "source": [
    "<h2>1.2 Creating Functions to Get Posts from Subreddits</h2>"
   ]
  },
  {
   "cell_type": "markdown",
   "metadata": {},
   "source": [
    "<h3>Creating Function to Get Posts from r/RandomKindness</h3>"
   ]
  },
  {
   "cell_type": "code",
   "execution_count": 6,
   "metadata": {},
   "outputs": [],
   "source": [
    "def get_posts_with_comments(subreddit_name):\n",
    "    count = 0\n",
    "    try:\n",
    "        posts = reddit.subreddit(subreddit_name).new(limit=1000)\n",
    "            # posts = subreddit.search(search_term, limit=10000)  # Limit set to 1,000\n",
    "\n",
    "        data = []  # Blank list to hold all the data\n",
    "\n",
    "        for post in posts:\n",
    "            # Implementing delay\n",
    "            time.sleep(1)  # Sleep for 1 second between each request\n",
    "            # Normalize the post URL and ID for inclusion with every entry\n",
    "            post_url = post.url\n",
    "            post_id = post.id\n",
    "\n",
    "            # Append post title to the list, including ID and URL\n",
    "            data.append({\n",
    "                'subreddit': subreddit_name, \n",
    "                'type': 'title', \n",
    "                'text': post.title.replace('\\n', ' '), \n",
    "                'id': post_id, \n",
    "                'url': post_url\n",
    "            })\n",
    "            # print(count) # Debugged\n",
    "            post.comments.replace_more(limit=0)\n",
    "            # Append post body to the list, including ID and URL\n",
    "            data.append({\n",
    "                'subreddit': subreddit_name, \n",
    "                'type': 'body', \n",
    "                'text': post.selftext,\n",
    "                'id': post_id, \n",
    "                'url': post_url\n",
    "            })  # Reduce \"more\" comments to manage the load\n",
    "            for comment in post.comments.list():\n",
    "                # Append each comment to the list, including post ID and URL for context\n",
    "                data.append({\n",
    "                    'subreddit': subreddit_name, \n",
    "                    'type': 'comment', \n",
    "                    'text': comment.body.replace('\\n', ' '), \n",
    "                    'id': post_id, \n",
    "                    'url': post_url\n",
    "                })\n",
    "                    \n",
    "                # Fetch and append replies for each comment, including post ID and URL\n",
    "                for reply in comment.replies.list():\n",
    "                    data.append({\n",
    "                        'subreddit': subreddit_name, \n",
    "                        'type': 'reply', \n",
    "                        'text': reply.body.replace('\\n', ' '), \n",
    "                        'id': post_id, \n",
    "                        'url': post_url\n",
    "                    })\n",
    "            count += 1\n",
    "        return data\n",
    "    except APIException as e:\n",
    "        print(f\"API Exception: {e}\") \n",
    "\n",
    "# Fetch data from r/RandomKindess\n",
    "data_randomkindness = get_posts_with_comments('RandomKindness')"
   ]
  },
  {
   "cell_type": "code",
   "execution_count": 12,
   "metadata": {},
   "outputs": [
    {
     "data": {
      "text/plain": [
       "[{'subreddit': 'RandomKindness',\n",
       "  'type': 'title',\n",
       "  'text': '[RK] An Introduction and Rules Reminder to r/RandomKindness',\n",
       "  'id': '1bmbrr8',\n",
       "  'url': 'https://www.reddit.com/r/RandomKindness/comments/1bmbrr8/rk_an_introduction_and_rules_reminder_to/'},\n",
       " {'subreddit': 'RandomKindness',\n",
       "  'type': 'body',\n",
       "  'text': \"# If you're new (or not so new) to [/r/RandomKindness](https://www.reddit.com/r/RandomKindness), welcome!\\n\\nTo participate in our sub, please keep the following requirements and rules in mind:\\n\\n## Account Requirements\\n\\n## To make requests and take up offers:\\n\\n* Your account MUST be at least 180 days old\\n* Have at least 500 *COMMENT* Karma\\n* Have recent productive (non-spam, non-request, non-gift exchange) activity for the past 90 days to post a request or enter to receive on offers\\n\\nPlease note, we're asking for *COMMENT* Karma. Not combined or total karma, which you normally see listed.\\n\\nYour Comment Karma is listed on the desktop when you mouse hover over your user name.\\n\\n**Do not cheat while acquiring karma.** Using free karma subs or asking for upvotes in other subs will lead to a permanent ban, and a listing on the r/UniversalScammerList.\\n\\n**Do not use multiple accounts.** The use of multiple accounts either by an individual or within a household will result in a permanent ban.\\n\\n**Do not send unsolicited private messages.** PMs circumventing account requirements will also results in a permanent ban.\\n\\n## To make offers or fulfill requests:\\n\\n* We have added account requirements to make offers since we have seen a major uptick in fake offers.\\n* Your account MUST be at least 90 days old\\n* Have at least 300 *COMMENT* Karma Please note, we're asking for *COMMENT* Karma. Not combined or total karma, which you normally see listed.Your Comment Karma is listed on the desktop when you mouse hover over your user name.\\n\\nYou can [modmail](https://www.reddit.com/message/compose?to=%2Fr%2FRandomKindness) us with any questions.\\n\\n## A Quick Overview of the Rules\\n\\n* The most important rule is **DO NOT DELETE.** Deletions trigger an automatic ban from [/r/RandomKindness](https://www.reddit.com/r/RandomKindness). If you have an issue with your post, please [modmail](https://www.reddit.com/message/compose?to=%2Fr%2FRandomKindness) us, and we will remove it for you!\\n* No Monetary Requests.\\n* No Trades or Reimbursements.\\n* No Advertising, self-promotion, or referrals.\\n* No requests for votes, views, shares, followers, likes, subscribers, and the like.\\n* No requests for items with the intent to sell or trade.\\n* No Flaming, insults, derogatory comments or otherwise rude behavior.\\n* No mature (18+) or illegal requests.\\n* No requests for take out/fast food/pizza.\\n* All Gaming-related requests should go to [/r/GiftofGames](https://www.reddit.com/r/GiftofGames)\\n* You may post requests once a month. You may make offers as often as you'd like.\\n* The most important rule is **DO NOT DELETE.** Deletions trigger an automatic ban from [/r/RandomKindness](https://www.reddit.com/r/RandomKindness). If you have an issue with your post, please [modmail](https://www.reddit.com/message/compose?to=%2Fr%2FRandomKindness) us, and we will remove it for you!\\n\\n## For more information and details, please see our [wiki](https://www.reddit.com/r/RandomKindness/wiki/index)\",\n",
       "  'id': '1bmbrr8',\n",
       "  'url': 'https://www.reddit.com/r/RandomKindness/comments/1bmbrr8/rk_an_introduction_and_rules_reminder_to/'},\n",
       " {'subreddit': 'RandomKindness',\n",
       "  'type': 'title',\n",
       "  'text': '[Request] My hardworking 3rd grade class has worked so hard and I want to stuff throw them an Easter egg hunt with some fun items! ',\n",
       "  'id': '1bl1zyf',\n",
       "  'url': 'https://www.reddit.com/r/RandomKindness/comments/1bl1zyf/request_my_hardworking_3rd_grade_class_has_worked/'},\n",
       " {'subreddit': 'RandomKindness',\n",
       "  'type': 'body',\n",
       "  'text': 'https://www.amazon.com/hz/wishlist/ls/1XKKDARAEUFCA?ref_=wl_share \\n\\nThank you to anyone who contributes!!! \\nLocation: USA',\n",
       "  'id': '1bl1zyf',\n",
       "  'url': 'https://www.reddit.com/r/RandomKindness/comments/1bl1zyf/request_my_hardworking_3rd_grade_class_has_worked/'},\n",
       " {'subreddit': 'RandomKindness',\n",
       "  'type': 'comment',\n",
       "  'text': 'Hello, /u/Adventurous_Page2148.   Just an FYI. Your post is temporarily removed to give us time to manually vet all new requests. Due to the random availaibility of the mods, at worst it should be reviewed within 24 hours.   If your request is fulfilled, please remember to close the thread (click the flair button under your post and choose the option with the line through the title, then click save), apply for flair only if you do not have Received flair and post a [Thanks] thread.   If you have not yet, please remember to [**read the rules**](https://www.reddit.com/r/RandomKindness/wiki/index) and if you find yourself violating them, please **do not delete** the post but [modmail] (https://www.reddit.com/message/compose?to=%2Fr%2FRandomKindness) us instead.    #**IMPORTANT NOTE**: Deleting a [Request] will result in an **automatic ban**.  Please [**message the mods**] (https://www.reddit.com/message/compose?to=%2Fr%2FRandomKindness) to discuss post removal.  *I am a bot, and this action was performed automatically. Please [contact the moderators of this subreddit](/message/compose/?to=/r/RandomKindness) if you have any questions or concerns.*',\n",
       "  'id': '1bl1zyf',\n",
       "  'url': 'https://www.reddit.com/r/RandomKindness/comments/1bl1zyf/request_my_hardworking_3rd_grade_class_has_worked/'}]"
      ]
     },
     "execution_count": 12,
     "metadata": {},
     "output_type": "execute_result"
    }
   ],
   "source": [
    "# Print the first 5 rows of r/RandomKindness\n",
    "data_randomkindness = get_posts_with_comments('RandomKindness')[:5]\n",
    "\n",
    "data_randomkindness"
   ]
  },
  {
   "cell_type": "markdown",
   "metadata": {},
   "source": [
    "<h3>Creating Function to Get Posts from r/Scams</h3>"
   ]
  },
  {
   "cell_type": "code",
   "execution_count": 7,
   "metadata": {},
   "outputs": [],
   "source": [
    "def get_posts_with_comments(subreddit_name):\n",
    "    count = 0\n",
    "    try:\n",
    "        posts = reddit.subreddit(subreddit_name).new(limit=1000)\n",
    "            # posts = subreddit.search(search_term, limit=10000)  # Limit set to 1,000\n",
    "\n",
    "        data = []  # Blank list to hold all the data\n",
    "\n",
    "        for post in posts:\n",
    "            # Implementing delay\n",
    "            time.sleep(1)  # Sleep for 1 second between each request\n",
    "            # Normalize the post URL and ID for inclusion with every entry\n",
    "            post_url = post.url\n",
    "            post_id = post.id\n",
    "\n",
    "            # Append post title to the list, including ID and URL\n",
    "            data.append({\n",
    "                'subreddit': subreddit_name, \n",
    "                'type': 'title', \n",
    "                'text': post.title.replace('\\n', ' '), \n",
    "                'id': post_id, \n",
    "                'url': post_url\n",
    "            })\n",
    "            # print(count) # Debugged\n",
    "            post.comments.replace_more(limit=0)\n",
    "            # Append post body to the list, including ID and URL\n",
    "            data.append({\n",
    "                'subreddit': subreddit_name, \n",
    "                'type': 'body', \n",
    "                'text': post.selftext,\n",
    "                'id': post_id, \n",
    "                'url': post_url\n",
    "            })  # Reduce \"more\" comments to manage the load\n",
    "            for comment in post.comments.list():\n",
    "                # Append each comment to the list, including post ID and URL for context\n",
    "                data.append({\n",
    "                    'subreddit': subreddit_name, \n",
    "                    'type': 'comment', \n",
    "                    'text': comment.body.replace('\\n', ' '), \n",
    "                    'id': post_id, \n",
    "                    'url': post_url\n",
    "                })\n",
    "                    \n",
    "                # Fetch and append replies for each comment, including post ID and URL\n",
    "                for reply in comment.replies.list():\n",
    "                    data.append({\n",
    "                        'subreddit': subreddit_name, \n",
    "                        'type': 'reply', \n",
    "                        'text': reply.body.replace('\\n', ' '), \n",
    "                        'id': post_id, \n",
    "                        'url': post_url\n",
    "                    })\n",
    "            count += 1\n",
    "        return data\n",
    "    except APIException as e:\n",
    "        print(f\"API Exception: {e}\")\n",
    "\n",
    "# Fetch data from r/Scams\n",
    "data_scams = get_posts_with_comments('Scams')"
   ]
  },
  {
   "cell_type": "code",
   "execution_count": 11,
   "metadata": {},
   "outputs": [
    {
     "data": {
      "text/plain": [
       "[{'subreddit': 'Scams',\n",
       "  'type': 'title',\n",
       "  'text': 'This is a weird scam',\n",
       "  'id': '1bnwy7r',\n",
       "  'url': 'https://www.reddit.com/r/Scams/comments/1bnwy7r/this_is_a_weird_scam/'},\n",
       " {'subreddit': 'Scams',\n",
       "  'type': 'body',\n",
       "  'text': 'A random person friended me on discord and said hello, I said Hi and then I said \"Why did you friend me?\" he ignored the question and said \"Nothing Much\" then asked if he could ask me a question I said sure he then asked me  \"If $3000 was deposited to your account what will you spend it on (1) food (2) child (3) bills (4) family (5) car (6) investment (7) your needs (8)rent be honest\" I made a new answer number (9) fun because I am a minor and then asked if he was a scammer and he skipped over my question and said \" I’m sorry for the late response, Good, What paying app did you have Cash app or PayPal?\" I was confused because he said good for no reason and then it hit me. It was an automated message scam. I said Cashapp and he told me to drop the link. I told him that he was scamming and then he told me \"My bad, I swear with you this is not a scam or joke  Try this and thanks me later bet Try this and see.\" I said \"Prove to me that you are not a scammer and he sent I swear to god \" \\n\\n1. This is not a scam believe me,i just don\\'t want you miss out this privilege because i know how useful the cash is to you and your family,am a man of God with God fearing heart i can never cheat on another person\\'s sweat,but trust me the word of God says many sorrows shall be to the wicked: but he that trusteth in the LORD, mercy shall compass him about.(Psalm 32:10)you will give a testimony by the time you receive your payment\\n2. If you can go through this you gonna see same thing that happened to you happen to this man and once he give it a try he get his payment immediately\\n3. Just give it a try now you have my word\" \\n4. yes all of the misspelling\\'s were his fault, He also sent videos of people saying that his company was not a scam even if I wasn\\'t told about any company and screenshots of a guy and presumably him talking about the 3,000 and the guy sent 30$ and got 3,000$ back. (I thought this was very fake) He has not responded since then.',\n",
       "  'id': '1bnwy7r',\n",
       "  'url': 'https://www.reddit.com/r/Scams/comments/1bnwy7r/this_is_a_weird_scam/'},\n",
       " {'subreddit': 'Scams',\n",
       "  'type': 'comment',\n",
       "  'text': '/u/MemeFoolery - This message is posted to all new submissions to r/scams; please do not message the moderators about it.  ## New users beware: Because you posted here, you will start getting private messages from scammers saying they know a professional hacker or a recovery expert lawyer that can help you get your money back, for a small fee. **We call these RECOVERY SCAMMERS, so NEVER take advice in private:** advice should always come in the form of comments in this post, in the open, where the community can keep an eye out for you. If you take advice in private, you\\'re on your own.  **A reminder of the rules in r/scams:** no contact information (including last names, phone numbers, etc). Be civil to one another (no name calling or insults). Personal army requests or \"scam the scammer\"/scambaiting posts are not permitted. No uncensored gore or personal photographs are allowed without blurring. A full list of rules is available on the sidebar of the subreddit, or [clicking here](https://www.reddit.com/r/Scams/wiki/rules/).  You can help us by reporting recovery scammers or rule-breaking content by using the \"report\" button. We review 100% of the reports. Also, consider warning community members of recovery scammers if you see them in the comments.  Questions about subreddit rules? Send us a modmail [clicking here](https://www.reddit.com/message/compose/?to=/r/Scams).   *I am a bot, and this action was performed automatically. Please [contact the moderators of this subreddit](/message/compose/?to=/r/Scams) if you have any questions or concerns.*',\n",
       "  'id': '1bnwy7r',\n",
       "  'url': 'https://www.reddit.com/r/Scams/comments/1bnwy7r/this_is_a_weird_scam/'},\n",
       " {'subreddit': 'Scams',\n",
       "  'type': 'title',\n",
       "  'text': 'This feels sketchy how fake is this? My neighbor sent me this thinking it was real.',\n",
       "  'id': '1bnwub9',\n",
       "  'url': 'https://www.reddit.com/gallery/1bnwub9'},\n",
       " {'subreddit': 'Scams',\n",
       "  'type': 'body',\n",
       "  'text': 'My neighbor sent me this, and this seems to be a fake “announcement” it seems also this was made in TikTok or something. How fake is this tho??',\n",
       "  'id': '1bnwub9',\n",
       "  'url': 'https://www.reddit.com/gallery/1bnwub9'}]"
      ]
     },
     "execution_count": 11,
     "metadata": {},
     "output_type": "execute_result"
    }
   ],
   "source": [
    "# Print the first 5 rows of r/Scams\n",
    "data_scams = get_posts_with_comments('Scams')[:5]\n",
    "\n",
    "data_scams"
   ]
  },
  {
   "cell_type": "markdown",
   "metadata": {},
   "source": [
    "<h2>1.3 Combine Both Data & Convert into a Dataframe</h2>"
   ]
  },
  {
   "cell_type": "code",
   "execution_count": 14,
   "metadata": {},
   "outputs": [],
   "source": [
    "# Combine and Convert to Dataframe\n",
    "combined_data = data_randomkindness + data_scams\n",
    "df = pd.DataFrame(combined_data)\n",
    "\n",
    "#Export to CSV\n",
    "df.to_csv('../data/reddit_scraped_data.csv', index=False)"
   ]
  }
 ],
 "metadata": {
  "anaconda-cloud": {},
  "kernelspec": {
   "display_name": "Python 3 (ipykernel)",
   "language": "python",
   "name": "python3"
  },
  "language_info": {
   "codemirror_mode": {
    "name": "ipython",
    "version": 3
   },
   "file_extension": ".py",
   "mimetype": "text/x-python",
   "name": "python",
   "nbconvert_exporter": "python",
   "pygments_lexer": "ipython3",
   "version": "3.11.5"
  }
 },
 "nbformat": 4,
 "nbformat_minor": 4
}
